{
 "cells": [
  {
   "cell_type": "code",
   "execution_count": null,
   "metadata": {},
   "outputs": [],
   "source": [
    "from base import HousingCrawler\n",
    "from constants import d_COLUMNS\n",
    "# from utils.data_utils import open_connection, fetch_tables, push_data, format_all_results"
   ]
  },
  {
   "cell_type": "markdown",
   "metadata": {},
   "source": [
    "### Configs"
   ]
  },
  {
   "cell_type": "code",
   "execution_count": null,
   "metadata": {},
   "outputs": [],
   "source": [
    "# uber and dropbox coordinates \n",
    "UBER = (37.775905, -122.418339)\n",
    "DROPBOX = (37.766622, -122.392408)\n",
    "DESTINATION = {\n",
    "    \"Uber\": UBER,\n",
    "    \"Dropbox\": DROPBOX\n",
    "}\n",
    "MODE=[\"cycling\", \"transit\", \"walking\"]\n",
    "\n",
    "FILTERS_2BD = {\n",
    "    'price_min': 3500,\n",
    "    'price_max': 5500,\n",
    "    'min_bedrooms': 2,\n",
    "    'max_bedrooms': 2,\n",
    "    'min_ft2': 700,\n",
    "}\n",
    "FILTERS_3BD = {\n",
    "    'price_min': 4000,\n",
    "    'price_max': 7000,\n",
    "    'min_bedrooms': 3,\n",
    "    'max_bedrooms': 3,\n",
    "    'min_ft2': 12,\n",
    "}"
   ]
  },
  {
   "cell_type": "markdown",
   "metadata": {},
   "source": [
    "### 3 Beds"
   ]
  },
  {
   "cell_type": "code",
   "execution_count": null,
   "metadata": {},
   "outputs": [],
   "source": [
    "hc3 = HousingCrawler(\n",
    "    filters=FILTERS_3BD, \n",
    "    destination=DESTINATION,\n",
    "    mode=MODE\n",
    ")"
   ]
  },
  {
   "cell_type": "code",
   "execution_count": null,
   "metadata": {},
   "outputs": [],
   "source": [
    "hc3.run_all()"
   ]
  },
  {
   "cell_type": "markdown",
   "metadata": {},
   "source": [
    "### 2 Beds"
   ]
  },
  {
   "cell_type": "code",
   "execution_count": null,
   "metadata": {},
   "outputs": [],
   "source": [
    "hc2 = HousingCrawler(\n",
    "    filters=FILTERS_2BD, \n",
    "    destination=DESTINATION,\n",
    "    mode=MODE\n",
    ")"
   ]
  },
  {
   "cell_type": "code",
   "execution_count": null,
   "metadata": {},
   "outputs": [],
   "source": [
    "hc2.run_all()"
   ]
  },
  {
   "cell_type": "markdown",
   "metadata": {},
   "source": [
    "### Combine results"
   ]
  },
  {
   "cell_type": "code",
   "execution_count": null,
   "metadata": {},
   "outputs": [],
   "source": [
    "# df_res_formatted = format_all_results([hc2.df_res, hc3.df_res])"
   ]
  },
  {
   "cell_type": "code",
   "execution_count": null,
   "metadata": {},
   "outputs": [],
   "source": [
    "# df_res_formatted.head(3)"
   ]
  },
  {
   "cell_type": "markdown",
   "metadata": {},
   "source": [
    "### Load schema"
   ]
  },
  {
   "cell_type": "code",
   "execution_count": null,
   "metadata": {},
   "outputs": [],
   "source": [
    "# from credentials import AWS_AUTH"
   ]
  },
  {
   "cell_type": "code",
   "execution_count": null,
   "metadata": {},
   "outputs": [],
   "source": [
    "# with open(\"schema_results.txt\", 'r') as f:\n",
    "#     schema = f.read()\n",
    "\n",
    "# create_table(table_name='results', schema=schema, auth=auth)"
   ]
  },
  {
   "cell_type": "markdown",
   "metadata": {},
   "source": [
    "### List table in database"
   ]
  },
  {
   "cell_type": "code",
   "execution_count": null,
   "metadata": {},
   "outputs": [],
   "source": [
    "# cursor, connection = open_connection(AWS)"
   ]
  },
  {
   "cell_type": "code",
   "execution_count": null,
   "metadata": {
    "scrolled": true
   },
   "outputs": [],
   "source": [
    "# fetch_tables('results', auth = AWS)"
   ]
  },
  {
   "cell_type": "markdown",
   "metadata": {},
   "source": [
    "### Load data to tables"
   ]
  },
  {
   "cell_type": "code",
   "execution_count": null,
   "metadata": {
    "scrolled": true
   },
   "outputs": [],
   "source": [
    "# push_data(\n",
    "#     df_res=df_res_formatted,\n",
    "#     auth=AWS,\n",
    "#     table_name='results'\n",
    "# )"
   ]
  },
  {
   "cell_type": "markdown",
   "metadata": {},
   "source": [
    "### Get Data from table "
   ]
  },
  {
   "cell_type": "code",
   "execution_count": null,
   "metadata": {},
   "outputs": [],
   "source": [
    "# cursor, connection = open_connection(auth['aws'])"
   ]
  },
  {
   "cell_type": "code",
   "execution_count": null,
   "metadata": {},
   "outputs": [],
   "source": [
    "# cursor.execute(\"select * from results\")\n",
    "# data = cursor.fetchall()"
   ]
  },
  {
   "cell_type": "markdown",
   "metadata": {},
   "source": [
    "### Send Email"
   ]
  },
  {
   "cell_type": "markdown",
   "metadata": {},
   "source": [
    "### Use Mail Service"
   ]
  },
  {
   "cell_type": "code",
   "execution_count": null,
   "metadata": {},
   "outputs": [],
   "source": [
    "from mail_service import MailService\n",
    "from credentials import EMAIL_AUTH"
   ]
  },
  {
   "cell_type": "code",
   "execution_count": null,
   "metadata": {},
   "outputs": [],
   "source": [
    "# init Mail Service \n",
    "sender_auth = EMAIL_AUTH\n",
    "receiver = ['elhjouji.zakaria@gmail.com', 'lisafwalz@gmail.com']"
   ]
  },
  {
   "cell_type": "code",
   "execution_count": null,
   "metadata": {},
   "outputs": [],
   "source": [
    "mail = MailService(sender_auth=sender_auth, receiver=receiver)"
   ]
  },
  {
   "cell_type": "code",
   "execution_count": null,
   "metadata": {},
   "outputs": [],
   "source": [
    "l_links_2 = hc2.url_considered\n",
    "l_links_3 = hc3.url_considered\n",
    "mail.create_and_send_all_msg(\n",
    "    l_links_2=l_links_2,\n",
    "    l_links_3=l_links_3\n",
    ")"
   ]
  },
  {
   "cell_type": "code",
   "execution_count": null,
   "metadata": {},
   "outputs": [],
   "source": []
  }
 ],
 "metadata": {
  "kernelspec": {
   "display_name": "craig",
   "language": "python",
   "name": "craig"
  },
  "language_info": {
   "codemirror_mode": {
    "name": "ipython",
    "version": 3
   },
   "file_extension": ".py",
   "mimetype": "text/x-python",
   "name": "python",
   "nbconvert_exporter": "python",
   "pygments_lexer": "ipython3",
   "version": "3.6.2"
  }
 },
 "nbformat": 4,
 "nbformat_minor": 4
}
